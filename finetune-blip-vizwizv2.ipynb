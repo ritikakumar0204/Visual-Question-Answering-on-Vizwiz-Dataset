{
 "cells": [
  {
   "cell_type": "markdown",
   "id": "c21d6486-1922-4c31-99e0-eacd4b93b52f",
   "metadata": {},
   "source": [
    "# CS 5330: Final Project\n",
    "### VQA finetuning of BLIP using Vizwiz dataset\n",
    "- *Model link*: https://huggingface.co/Salesforce/blip-vqa-base\n",
    "- *Dataset link*: https://www.kaggle.com/datasets/lhanhsin/vizwiz"
   ]
  },
  {
   "cell_type": "markdown",
   "id": "3e496ac0-3e0a-41c2-ba52-498649abf6ac",
   "metadata": {},
   "source": [
    "Preprocessing "
   ]
  },
  {
   "cell_type": "code",
   "execution_count": 2,
   "id": "4cc97a68-b08b-470f-8789-9b1454061da5",
   "metadata": {},
   "outputs": [],
   "source": [
    "import numpy as np \n",
    "import pandas as pd "
   ]
  },
  {
   "cell_type": "code",
   "execution_count": 2,
   "id": "ff2b7f7b-1bbd-4245-9754-bac2bd79a2b8",
   "metadata": {},
   "outputs": [
    {
     "name": "stdout",
     "output_type": "stream",
     "text": [
      "Warning: Looks like you're using an outdated `kagglehub` version, please consider updating (latest version: 0.3.4)\n",
      "Path to dataset files: /home/kumar.riti/.cache/kagglehub/datasets/lhanhsin/vizwiz/versions/2\n"
     ]
    }
   ],
   "source": [
    "import kagglehub\n",
    "path = kagglehub.dataset_download(\"lhanhsin/vizwiz\")\n",
    "\n",
    "print(\"Path to dataset files:\", path)"
   ]
  },
  {
   "cell_type": "code",
   "execution_count": 15,
   "id": "a3f92a07-8fe5-4803-8e34-0d11ce61fdac",
   "metadata": {},
   "outputs": [
    {
     "name": "stdout",
     "output_type": "stream",
     "text": [
      "Mon Dec  9 22:17:11 2024       \n",
      "+---------------------------------------------------------------------------------------+\n",
      "| NVIDIA-SMI 545.23.08              Driver Version: 545.23.08    CUDA Version: 12.3     |\n",
      "|-----------------------------------------+----------------------+----------------------+\n",
      "| GPU  Name                 Persistence-M | Bus-Id        Disp.A | Volatile Uncorr. ECC |\n",
      "| Fan  Temp   Perf          Pwr:Usage/Cap |         Memory-Usage | GPU-Util  Compute M. |\n",
      "|                                         |                      |               MIG M. |\n",
      "|=========================================+======================+======================|\n",
      "|   0  Tesla V100-SXM2-32GB           Off | 00000000:18:00.0 Off |                    0 |\n",
      "| N/A   49C    P0              61W / 300W |  13473MiB / 32768MiB |      0%      Default |\n",
      "|                                         |                      |                  N/A |\n",
      "+-----------------------------------------+----------------------+----------------------+\n",
      "                                                                                         \n",
      "+---------------------------------------------------------------------------------------+\n",
      "| Processes:                                                                            |\n",
      "|  GPU   GI   CI        PID   Type   Process name                            GPU Memory |\n",
      "|        ID   ID                                                             Usage      |\n",
      "|=======================================================================================|\n",
      "|    0   N/A  N/A    212210      C   ...entos7/anaconda3/2021.05/bin/python    11446MiB |\n",
      "|    0   N/A  N/A    212213      C   ...entos7/anaconda3/2021.05/bin/python     2024MiB |\n",
      "+---------------------------------------------------------------------------------------+\n"
     ]
    }
   ],
   "source": [
    "! nvidia-smi"
   ]
  },
  {
   "cell_type": "code",
   "execution_count": 1,
   "id": "30829724-84d9-45af-9658-b86c3c591bf6",
   "metadata": {},
   "outputs": [],
   "source": [
    "!kill -9 212213 "
   ]
  },
  {
   "cell_type": "code",
   "execution_count": 16,
   "id": "94006e3a-a778-4c5b-a3a3-1763c92d88ef",
   "metadata": {},
   "outputs": [],
   "source": [
    "import json\n",
    "path = '/home/kumar.riti/.cache/kagglehub/datasets/lhanhsin/vizwiz/versions/2/'\n",
    "train_annotations_path = path + \"Annotations/Annotations/train.json\" \n",
    "val_annotations_path = path + \"Annotations/Annotations/val.json\"  \n",
    "image_dir = \"train/train\""
   ]
  },
  {
   "cell_type": "code",
   "execution_count": 17,
   "id": "9f3e3a3c-0f11-4032-8933-dadaedb3006f",
   "metadata": {},
   "outputs": [],
   "source": [
    "with open(train_annotations_path, 'r') as f:\n",
    "    train = json.load(f)\n",
    "train_df = pd.DataFrame(train)\n",
    "\n",
    "with open(val_annotations_path, 'r') as f:\n",
    "    val = json.load(f)\n",
    "\n",
    "val_df = pd.DataFrame(val)"
   ]
  },
  {
   "cell_type": "code",
   "execution_count": 18,
   "id": "2b1bb5b3-46a0-455c-aa17-7a85b2e534ae",
   "metadata": {},
   "outputs": [],
   "source": [
    "def get_most_confident_answer(answers):\n",
    "    if isinstance(answers, list) and len(answers) > 0:\n",
    "        return max(answers, key=lambda x: x['answer_confidence'])['answer']\n",
    "    return \"\"\n",
    "\n",
    "train_df['most_confident_answer'] = train_df['answers'].apply(get_most_confident_answer)"
   ]
  },
  {
   "cell_type": "code",
   "execution_count": 19,
   "id": "0d701265-e926-4a99-ae85-53a4800c8b16",
   "metadata": {},
   "outputs": [],
   "source": [
    "val_df['most_confident_answer'] = val_df['answers'].apply(get_most_confident_answer)"
   ]
  },
  {
   "cell_type": "code",
   "execution_count": 20,
   "id": "2abac29b-7df9-42dd-ae11-0da44a02fd80",
   "metadata": {},
   "outputs": [],
   "source": [
    "trian_df = train_df[train_df['answerable'] == 1]\t\n",
    "val_df = val_df[val_df['answerable'] == 1]\n",
    "train_df = train_df[:]\n",
    "val_df = val_df[:]\n",
    "\n",
    "val_df = val_df[['image', 'question', 'most_confident_answer']]\n",
    "train_df = train_df[['image', 'question', 'most_confident_answer']]"
   ]
  },
  {
   "cell_type": "code",
   "execution_count": 21,
   "id": "38fd126c-32e4-4b7c-994c-a5136db59424",
   "metadata": {},
   "outputs": [],
   "source": [
    "f_train = pd.DataFrame(pd.read_csv('filtered_data.csv'))\n",
    "f_val = pd.DataFrame(pd.read_csv('filtered_data_val.csv'))\n",
    "train_df = pd.merge(f_train, train_df, how='left', on='image' )\n",
    "train_df.dropna(inplace=True)\n",
    "val_df = pd.merge(f_val, val_df, how='left', on='image' )\n",
    "val_df.dropna(inplace=True)"
   ]
  },
  {
   "cell_type": "code",
   "execution_count": 22,
   "id": "b498aead-6498-43f2-97a2-9056122ce53a",
   "metadata": {},
   "outputs": [
    {
     "name": "stdout",
     "output_type": "stream",
     "text": [
      "13507 2005\n"
     ]
    }
   ],
   "source": [
    "print(len(train_df), len(val_df))"
   ]
  },
  {
   "cell_type": "code",
   "execution_count": 23,
   "id": "465b9b47-b19f-49f2-bc71-5f1406fff1fb",
   "metadata": {},
   "outputs": [
    {
     "data": {
      "text/plain": [
       "<torch._C.Generator at 0x2b88d1dbc5d0>"
      ]
     },
     "execution_count": 23,
     "metadata": {},
     "output_type": "execute_result"
    }
   ],
   "source": [
    "import os\n",
    "import requests\n",
    "from transformers import BlipProcessor, BlipForQuestionAnswering\n",
    "from datasets import load_dataset\n",
    "import torch\n",
    "from PIL import Image\n",
    "from torch.utils.data import DataLoader\n",
    "from tqdm import tqdm\n",
    "import pickle\n",
    "\n",
    "model = BlipForQuestionAnswering.from_pretrained(\"Salesforce/blip-vqa-base\")\n",
    "processor = BlipProcessor.from_pretrained(\"Salesforce/blip-vqa-base\")\n",
    "\n",
    "device = torch.device(\"cuda\" if torch.cuda.is_available() else \"cpu\")\n",
    "model.to(device)\n",
    "\n",
    "torch.cuda.empty_cache()\n",
    "torch.manual_seed(42)"
   ]
  },
  {
   "cell_type": "code",
   "execution_count": 9,
   "id": "a3a20fe5-d43e-4463-8259-671c26231cdc",
   "metadata": {},
   "outputs": [],
   "source": [
    "# for param in model.text_decoder.parameters():\n",
    "#     param.requires_grad = False\n"
   ]
  },
  {
   "cell_type": "code",
   "execution_count": 10,
   "id": "f3abdd50-8e4b-4114-92b6-0f6f20f3c59b",
   "metadata": {},
   "outputs": [],
   "source": [
    "# for i, layer in enumerate(model.vision_model.encoder.layers):\n",
    "#     if i < 6:  # Freeze the first 6 layers\n",
    "#         for param in layer.parameters():\n",
    "#             param.requires_grad = False"
   ]
  },
  {
   "cell_type": "code",
   "execution_count": 24,
   "id": "752101b4-bdfc-4a59-a425-ce2cb2c90ee6",
   "metadata": {},
   "outputs": [],
   "source": [
    "import torch\n",
    "from PIL import Image\n",
    "from torchvision import transforms\n",
    "class VQADataset(torch.utils.data.Dataset):\n",
    "    \"\"\"VQA dataset using a pandas DataFrame.\"\"\"\n",
    "\n",
    "    def __init__(self, df, processor, prefix, image_size=128):\n",
    "        \"\"\"\n",
    "        Args:\n",
    "            df (pd.DataFrame): DataFrame containing 'question', 'answer', and 'image' columns.\n",
    "            processor: Hugging Face processor for tokenization and feature extraction.\n",
    "            prefix: for path\n",
    "            image_size: for resizing\n",
    "        \"\"\"\n",
    "        self.df = df\n",
    "        self.processor = processor\n",
    "        self.prefix = prefix\n",
    "        self.transform = transforms.Compose([\n",
    "            transforms.Resize((image_size, image_size)),  \n",
    "            transforms.ToTensor(), \n",
    "            #transforms.Normalize(mean=[0.485, 0.456, 0.406], std=[0.229, 0.224, 0.225])  \n",
    "        ])\n",
    "\n",
    "    def __len__(self):\n",
    "        return len(self.df)\n",
    "\n",
    "    def __getitem__(self, idx):\n",
    "\n",
    "        row = self.df.iloc[idx]\n",
    "        question = row['question']\n",
    "        answer = row['most_confident_answer']\n",
    "        image_path = self.prefix + row['image']\n",
    "\n",
    "        # Load the image\n",
    "        image = Image.open(image_path).convert(\"RGB\")\n",
    "        image = self.transform(image)\n",
    "        \n",
    "\n",
    "        # Process the image and text\n",
    "        encoding = self.processor(image, question, padding=\"max_length\",max_length=10, truncation=True, return_tensors=\"pt\")\n",
    "\n",
    "        # Process the answer\n",
    "        labels = self.processor.tokenizer.encode(\n",
    "            answer, max_length=10, pad_to_max_length=True, return_tensors='pt'\n",
    "        )\n",
    "        encoding[\"labels\"] = labels\n",
    "\n",
    "        # Remove batch dimension\n",
    "        for k, v in encoding.items():\n",
    "            encoding[k] = v.squeeze()\n",
    "\n",
    "        return encoding\n"
   ]
  },
  {
   "cell_type": "code",
   "execution_count": 25,
   "id": "8f4441b2-bc32-4a94-b835-6b27c135e494",
   "metadata": {},
   "outputs": [],
   "source": [
    "\n",
    "train_dataset = VQADataset(df=train_df,\n",
    "                          processor=processor, prefix=f'{path}/train/train/')\n",
    "valid_dataset = VQADataset(df=val_df,\n",
    "                          processor=processor, prefix=f'{path}/val/val/')\n",
    "\n"
   ]
  },
  {
   "cell_type": "code",
   "execution_count": 27,
   "id": "e2732c60-4123-4a83-b619-d48489b1d367",
   "metadata": {},
   "outputs": [
    {
     "name": "stderr",
     "output_type": "stream",
     "text": [
      "<ipython-input-27-1e2063ab1c94>:11: FutureWarning: `torch.cuda.amp.GradScaler(args...)` is deprecated. Please use `torch.amp.GradScaler('cuda', args...)` instead.\n",
      "  scaler = torch.cuda.amp.GradScaler()\n",
      "Training batch: ...: 100%|██████████| 1689/1689 [12:40<00:00,  2.22it/s]\n",
      "Validating batch: ...: 100%|██████████| 251/251 [01:20<00:00,  3.13it/s]\n"
     ]
    },
    {
     "name": "stdout",
     "output_type": "stream",
     "text": [
      "Epoch: 1 - Training loss: 1.4849938866017909 - Eval Loss: 1.6777764494675564 - LR: 4e-05\n",
      "Saved model to Model/blip-finetuned-vizwiz\n"
     ]
    },
    {
     "name": "stderr",
     "output_type": "stream",
     "text": [
      "Training batch: ...:   0%|          | 0/1689 [00:00<?, ?it/s]/home/kumar.riti/.local/lib/python3.8/site-packages/transformers/tokenization_utils_base.py:2834: FutureWarning: The `pad_to_max_length` argument is deprecated and will be removed in a future version, use `padding=True` or `padding='longest'` to pad to the longest sequence in the batch, or use `padding='max_length'` to pad to a max length. In this case, you can give a specific length with `max_length` (e.g. `max_length=45`) or leave max_length to None to pad to the maximal input size of the model (e.g. 512 for Bert).\n",
      "  warnings.warn(\n",
      "Training batch: ...: 100%|██████████| 1689/1689 [13:27<00:00,  2.09it/s]\n",
      "Validating batch: ...: 100%|██████████| 251/251 [01:48<00:00,  2.31it/s]\n"
     ]
    },
    {
     "name": "stdout",
     "output_type": "stream",
     "text": [
      "Epoch: 2 - Training loss: 0.9589248426554117 - Eval Loss: 1.746725843722127 - LR: 4e-05\n",
      "Saved model to Model/blip-finetuned-vizwiz\n",
      "The finetuning process is completed.\n"
     ]
    }
   ],
   "source": [
    "batch_size = 8\n",
    "train_dataloader = DataLoader(train_dataset, batch_size=batch_size, shuffle=False, pin_memory=True)\n",
    "valid_dataloader = DataLoader(valid_dataset, batch_size=batch_size, shuffle=False, pin_memory=True)\n",
    "\n",
    "optimizer = torch.optim.AdamW(model.parameters(), lr=4e-5)\n",
    "#scheduler = torch.optim.lr_scheduler.ExponentialLR(optimizer, gamma=0.9, last_epoch=-1, verbose=False)\n",
    "scheduler = torch.optim.lr_scheduler.StepLR(optimizer, step_size=10, gamma=0.1)\n",
    "\n",
    "num_epochs = 2\n",
    "info = []\n",
    "scaler = torch.cuda.amp.GradScaler()\n",
    "\n",
    "for epoch in range(num_epochs):\n",
    "    epoch_loss = 0\n",
    "    model.train()\n",
    "    for idx, batch in zip(tqdm(range(len(train_dataloader)), desc='Training batch: ...'), train_dataloader):\n",
    "        input_ids = batch.pop('input_ids').to(device)\n",
    "        pixel_values = batch.pop('pixel_values').to(device)\n",
    "        attention_masked = batch.pop('attention_mask').to(device)\n",
    "        labels = batch.pop('labels').to(device)\n",
    "        \n",
    "        with torch.amp.autocast(device_type='cuda', dtype=torch.float16):\n",
    "            outputs = model(input_ids=input_ids,\n",
    "                        pixel_values=pixel_values,\n",
    "                        attention_mask=attention_masked,\n",
    "                        labels=labels)\n",
    "            \n",
    "        loss = outputs.loss\n",
    "        epoch_loss += loss.item()\n",
    "        optimizer.zero_grad()\n",
    "        \n",
    "        scaler.scale(loss).backward()\n",
    "        scaler.step(optimizer)\n",
    "        scaler.update()\n",
    "    \n",
    "    model.eval()\n",
    "    eval_loss = 0\n",
    "    for idx, batch in zip(tqdm(range(len(valid_dataloader)), desc='Validating batch: ...'), valid_dataloader):\n",
    "        input_ids = batch.pop('input_ids').to(device)\n",
    "        pixel_values = batch.pop('pixel_values').to(device)\n",
    "        attention_masked = batch.pop('attention_mask').to(device)\n",
    "        labels = batch.pop('labels').to(device)\n",
    "\n",
    "        with torch.amp.autocast(device_type='cuda', dtype=torch.float16):\n",
    "            outputs = model(input_ids=input_ids,\n",
    "                        pixel_values=pixel_values,\n",
    "                        attention_mask=attention_masked,\n",
    "                        labels=labels)\n",
    "        \n",
    "        loss = outputs.loss\n",
    "        eval_loss += loss.item()\n",
    "\n",
    "    info.append((epoch_loss/len(train_dataloader), eval_loss/len(valid_dataloader), optimizer.param_groups[0][\"lr\"]))\n",
    "    print(\"Epoch: {} - Training loss: {} - Eval Loss: {} - LR: {}\".format(epoch+1, epoch_loss/len(train_dataloader), eval_loss/len(valid_dataloader), optimizer.param_groups[0][\"lr\"]))\n",
    "    scheduler.step()\n",
    "    model.save_pretrained(\"Model/blip-finetuned-vizwiz\", from_pt=True) \n",
    "    processor.save_pretrained(\"Model/blip-finetuned-vizwiz\", from_pt=True) \n",
    "    print(\"Saved model to Model/blip-finetuned-vizwiz\")\n",
    "print(\"The finetuning process is completed.\")"
   ]
  },
  {
   "cell_type": "code",
   "execution_count": null,
   "id": "1253c811-aa32-4a0d-acb9-4a84e3675429",
   "metadata": {},
   "outputs": [],
   "source": [
    "batch_size = 8\n",
    "train_dataloader = DataLoader(train_dataset, batch_size=batch_size, shuffle=False, pin_memory=True)\n",
    "valid_dataloader = DataLoader(valid_dataset, batch_size=8, shuffle=False, pin_memory=True)\n",
    "\n",
    "optimizer = torch.optim.AdamW(model.parameters(), lr=1e-5)\n",
    "scheduler = torch.optim.lr_scheduler.ExponentialLR(optimizer, gamma=0.9, last_epoch=-1, verbose=False)\n",
    "\n",
    "num_epochs = 1\n",
    "patience = 3\n",
    "min_eval_loss = float(\"inf\")\n",
    "early_stopping_hook = 0\n",
    "tracking_information = []\n",
    "scaler = torch.cuda.amp.GradScaler()\n",
    "\n",
    "for epoch in range(num_epochs):\n",
    "    epoch_loss = 0\n",
    "    model.train()\n",
    "    for idx, batch in zip(tqdm(range(len(train_dataloader)), desc='Training batch: ...'), train_dataloader):\n",
    "        input_ids = batch.pop('input_ids').to(device)\n",
    "        pixel_values = batch.pop('pixel_values').to(device)\n",
    "        attention_masked = batch.pop('attention_mask').to(device)\n",
    "        labels = batch.pop('labels').to(device)\n",
    "        \n",
    "        with torch.amp.autocast(device_type='cuda', dtype=torch.float16):\n",
    "            outputs = model(input_ids=input_ids,\n",
    "                        pixel_values=pixel_values,\n",
    "                        attention_mask=attention_masked,\n",
    "                        labels=labels)\n",
    "            \n",
    "        loss = outputs.loss\n",
    "        epoch_loss += loss.item()\n",
    "        optimizer.zero_grad()\n",
    "        \n",
    "        scaler.scale(loss).backward()\n",
    "        scaler.step(optimizer)\n",
    "        scaler.update()\n",
    "    \n",
    "    model.eval()\n",
    "    eval_loss = 0\n",
    "    for idx, batch in zip(tqdm(range(len(valid_dataloader)), desc='Validating batch: ...'), valid_dataloader):\n",
    "        input_ids = batch.pop('input_ids').to(device)\n",
    "        pixel_values = batch.pop('pixel_values').to(device)\n",
    "        attention_masked = batch.pop('attention_mask').to(device)\n",
    "        labels = batch.pop('labels').to(device)\n",
    "\n",
    "        with torch.amp.autocast(device_type='cuda', dtype=torch.float16):\n",
    "            outputs = model(input_ids=input_ids,\n",
    "                        pixel_values=pixel_values,\n",
    "                        attention_mask=attention_masked,\n",
    "                        labels=labels)\n",
    "        \n",
    "        loss = outputs.loss\n",
    "        eval_loss += loss.item()\n",
    "\n",
    "    tracking_information.append((epoch_loss/len(train_dataloader), eval_loss/len(valid_dataloader), optimizer.param_groups[0][\"lr\"]))\n",
    "    print(\"Epoch: {} - Training loss: {} - Eval Loss: {} - LR: {}\".format(epoch+1, epoch_loss/len(train_dataloader), eval_loss/len(valid_dataloader), optimizer.param_groups[0][\"lr\"]))\n",
    "    scheduler.step()\n",
    "    if eval_loss < min_eval_loss:\n",
    "        model.save_pretrained(\"Model/blip-saved-model\", from_pt=True) \n",
    "        processor.save_pretrained(\"Model/blip-saved-model\", from_pt=True) \n",
    "        print(\"Saved model to Model/blip-saved-model\")\n",
    "        min_eval_loss = eval_loss\n",
    "        early_stopping_hook = 0\n",
    "    else:\n",
    "        early_stopping_hook += 1\n",
    "        if early_stopping_hook > patience:\n",
    "            break\n",
    "    \n",
    "pickle.dump(tracking_information, open(\"tracking_information.pkl\", \"wb\"))\n",
    "print(\"The finetuning process completed.\")"
   ]
  },
  {
   "cell_type": "code",
   "execution_count": 15,
   "id": "dac58197-0484-4d49-ae2c-5ed8a9ae4e90",
   "metadata": {},
   "outputs": [],
   "source": [
    "import matplotlib.pyplot as plt\n",
    "from PIL import Image\n",
    "\n",
    "def visualize_vqa_result(processor, model, dataset, index):\n",
    "    \"\"\"\n",
    "    Visualizes the VQA results by displaying the image, question, actual answer, and predicted answer.\n",
    "\n",
    "    Args:\n",
    "        processor: BLIP processor for encoding images and text.\n",
    "        model: Fine-tuned BLIP model.\n",
    "        dataset: Dataset containing \"image\", \"question\", and \"answer\".\n",
    "        index: Index of the sample to visualize.\n",
    "\n",
    "    Returns:\n",
    "        None\n",
    "    \"\"\"\n",
    "    image_path = path + 'val/val/' + dataset[\"image\"][index]\n",
    "    question = dataset[\"question\"][index]\n",
    "    actual_answer = dataset[\"most_confident_answer\"][index]\n",
    "\n",
    "    image = Image.open(image_path).convert(\"RGB\")\n",
    "    plt.imshow(image)\n",
    "    plt.axis(\"off\")\n",
    "    plt.title(\"Test Image\")\n",
    "    plt.show()\n",
    "\n",
    "    inputs = processor(images=image, text=question, return_tensors=\"pt\").to(\"cuda\")\n",
    "    output = model.generate(**inputs)\n",
    "    predicted_answer = processor.decode(output[0], skip_special_tokens=True)\n",
    "\n",
    "    print(f\"Question: {question}\")\n",
    "    print(f\"Actual Answer: {actual_answer}\")\n",
    "    print(f\"Predicted Answer: {predicted_answer}\")\n"
   ]
  },
  {
   "cell_type": "code",
   "execution_count": 24,
   "id": "87a711b7-8524-44e5-9154-f11e98e84312",
   "metadata": {},
   "outputs": [
    {
     "data": {
      "image/png": "[encoded data removed]",
      "text/plain": [
       "<Figure size 432x288 with 1 Axes>"
      ]
     },
     "metadata": {
      "needs_background": "light"
     },
     "output_type": "display_data"
    },
    {
     "name": "stdout",
     "output_type": "stream",
     "text": [
      "Question: Can anyone tell me what's actually on the screen of the laptop?\n",
      "Actual Answer: unsuitable image\n",
      "Predicted Answer: unanswerable\n"
     ]
    }
   ],
   "source": [
    "visualize_vqa_result(processor, model, val_df, index=31)"
   ]
  },
  {
   "cell_type": "code",
   "execution_count": null,
   "id": "55956337-8dc0-4b04-b3be-374fbd4d31e0",
   "metadata": {},
   "outputs": [],
   "source": []
  }
 ],
 "metadata": {
  "kernelspec": {
   "display_name": "Python 3",
   "language": "python",
   "name": "python3"
  },
  "language_info": {
   "codemirror_mode": {
    "name": "ipython",
    "version": 3
   },
   "file_extension": ".py",
   "mimetype": "text/x-python",
   "name": "python",
   "nbconvert_exporter": "python",
   "pygments_lexer": "ipython3",
   "version": "3.8.8"
  }
 },
 "nbformat": 4,
 "nbformat_minor": 5
}
